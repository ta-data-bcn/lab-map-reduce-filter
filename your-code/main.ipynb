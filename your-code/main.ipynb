{
 "cells": [
  {
   "cell_type": "markdown",
   "metadata": {},
   "source": [
    "# Before your start:\n",
    "- Read the README.md file\n",
    "- Comment as much as you can and use the resources in the README.md file\n",
    "- Happy learning!"
   ]
  },
  {
   "cell_type": "code",
   "execution_count": 3,
   "metadata": {},
   "outputs": [],
   "source": [
    "# Import reduce from functools, numpy and pandas\n",
    "\n",
    "from functools import reduce \n",
    "import numpy\n",
    "import pandas\n"
   ]
  },
  {
   "cell_type": "markdown",
   "metadata": {},
   "source": [
    "# Challenge 1 - Mapping\n",
    "\n",
    "#### We will use the map function to clean up words in a book.\n",
    "\n",
    "In the following cell, we will read a text file containing the book The Prophet by Khalil Gibran."
   ]
  },
  {
   "cell_type": "code",
   "execution_count": 42,
   "metadata": {},
   "outputs": [],
   "source": [
    "# Run this code:\n",
    "\n",
    "location = '../data/58585-0.txt'\n",
    "with open(location, 'r', encoding=\"utf8\") as f:\n",
    "    prophet = f.read().split(' ')"
   ]
  },
  {
   "cell_type": "markdown",
   "metadata": {},
   "source": [
    "#### Let's remove the first 568 words since they contain information about the book but are not part of the book itself. \n",
    "\n",
    "Do this by removing from `prophet` elements 0 through 567 of the list (you can also do this by keeping elements 568 through the last element)."
   ]
  },
  {
   "cell_type": "code",
   "execution_count": 43,
   "metadata": {},
   "outputs": [],
   "source": [
    "# your code here\n",
    "prophet=prophet[568:]\n"
   ]
  },
  {
   "cell_type": "markdown",
   "metadata": {},
   "source": [
    "If you look through the words, you will find that many words have a reference attached to them. For example, let's look at words 1 through 10."
   ]
  },
  {
   "cell_type": "code",
   "execution_count": 48,
   "metadata": {},
   "outputs": [
    {
     "data": {
      "text/plain": [
       "'the'"
      ]
     },
     "execution_count": 48,
     "metadata": {},
     "output_type": "execute_result"
    }
   ],
   "source": [
    "# your code here\n",
    "\n",
    "prophet[0:9]\n",
    "\n",
    "x=\"the{7}\"\n",
    "\n",
    "x.split(\"{\")[0]"
   ]
  },
  {
   "cell_type": "markdown",
   "metadata": {},
   "source": [
    "#### The next step is to create a function that will remove references. \n",
    "\n",
    "We will do this by splitting the string on the `{` character and keeping only the part before this character. Write your function below."
   ]
  },
  {
   "cell_type": "code",
   "execution_count": 56,
   "metadata": {},
   "outputs": [],
   "source": [
    "def reference(x):\n",
    "    '''\n",
    "    Input: A string\n",
    "    Output: The string with references removed\n",
    "    \n",
    "    Example:\n",
    "    Input: 'the{7}'\n",
    "    Output: 'the'\n",
    "    '''\n",
    "    \n",
    "    # your code here\n",
    "    return x.split(\"{\")[0]"
   ]
  },
  {
   "cell_type": "markdown",
   "metadata": {},
   "source": [
    "Now that we have our function, use the `map()` function to apply this function to our book, The Prophet. Return the resulting list to a new list called `prophet_reference`."
   ]
  },
  {
   "cell_type": "code",
   "execution_count": 59,
   "metadata": {},
   "outputs": [
    {
     "data": {
      "text/plain": [
       "['PROPHET\\n\\n|Almustafa,',\n",
       " 'the',\n",
       " 'chosen',\n",
       " 'and',\n",
       " 'the\\nbeloved,',\n",
       " 'who',\n",
       " 'was',\n",
       " 'a',\n",
       " 'dawn']"
      ]
     },
     "execution_count": 59,
     "metadata": {},
     "output_type": "execute_result"
    }
   ],
   "source": [
    "# your code here\n",
    "\n",
    "prophet_reference = list(map(reference,prophet))\n",
    "\n",
    "prophet_reference[0:9]\n",
    "\n"
   ]
  },
  {
   "cell_type": "markdown",
   "metadata": {},
   "source": [
    "Another thing you may have noticed is that some words contain a line break. Let's write a function to split those words. Our function will return the string split on the character `\\n`. Write your function in the cell below."
   ]
  },
  {
   "cell_type": "code",
   "execution_count": 61,
   "metadata": {},
   "outputs": [],
   "source": [
    "def line_break(x):\n",
    "    '''\n",
    "    Input: A string\n",
    "    Output: A list of strings split on the line break (\\n) character\n",
    "        \n",
    "    Example:\n",
    "    Input: 'the\\nbeloved'\n",
    "    Output: ['the', 'beloved']\n",
    "    '''\n",
    "    \n",
    "    # your code here\n",
    "    \n",
    "    return x.split(\"\\n\")"
   ]
  },
  {
   "cell_type": "markdown",
   "metadata": {},
   "source": [
    "Apply the `line_break` function to the `prophet_reference` list. Name the new list `prophet_line`."
   ]
  },
  {
   "cell_type": "code",
   "execution_count": 63,
   "metadata": {},
   "outputs": [
    {
     "data": {
      "text/plain": [
       "[['PROPHET', '', '|Almustafa,'],\n",
       " ['the'],\n",
       " ['chosen'],\n",
       " ['and'],\n",
       " ['the', 'beloved,'],\n",
       " ['who'],\n",
       " ['was'],\n",
       " ['a'],\n",
       " ['dawn']]"
      ]
     },
     "execution_count": 63,
     "metadata": {},
     "output_type": "execute_result"
    }
   ],
   "source": [
    "# your code here\n",
    "\n",
    "prophet_line = list(map(line_break,prophet_reference))\n",
    "\n",
    "prophet_line[0:9]\n"
   ]
  },
  {
   "cell_type": "markdown",
   "metadata": {},
   "source": [
    "If you look at the elements of `prophet_line`, you will see that the function returned lists and not strings. Our list is now a list of lists. Flatten the list using list comprehension. Assign this new list to `prophet_flat`."
   ]
  },
  {
   "cell_type": "code",
   "execution_count": 68,
   "metadata": {
    "scrolled": true
   },
   "outputs": [
    {
     "data": {
      "text/plain": [
       "['PROPHET',\n",
       " '',\n",
       " '|Almustafa,',\n",
       " 'the',\n",
       " 'chosen',\n",
       " 'and',\n",
       " 'the',\n",
       " 'beloved,',\n",
       " 'who']"
      ]
     },
     "execution_count": 68,
     "metadata": {},
     "output_type": "execute_result"
    }
   ],
   "source": [
    "# your code here\n",
    "\n",
    "prophet_flat = [item for sublist in prophet_line for item in sublist]\n",
    "\n",
    "prophet_flat[0:9]\n"
   ]
  },
  {
   "cell_type": "markdown",
   "metadata": {},
   "source": [
    "# Challenge 2 - Filtering\n",
    "\n",
    "When printing out a few words from the book, we see that there are words that we may not want to keep if we choose to analyze the corpus of text. Below is a list of words that we would like to get rid of. Create a function that will return false if it contains a word from the list of words specified and true otherwise."
   ]
  },
  {
   "cell_type": "code",
   "execution_count": 90,
   "metadata": {},
   "outputs": [],
   "source": [
    "word_list = [\"and\", \"the\", \"a\", \"an\"]\n",
    "\n",
    "def word_filter(x):\n",
    "    '''\n",
    "    Input: A string\n",
    "    Output: True if the word is not in the specified list \n",
    "    and False if the word is in the list.\n",
    "        \n",
    "    Example:\n",
    "    word list = ['and', 'the']\n",
    "    Input: 'and'\n",
    "    Output: False\n",
    "    \n",
    "    Input: 'John'\n",
    "    Output: True\n",
    "    '''\n",
    "    \n",
    "    word_list = [\"and\", \"the\", \"a\", \"an\"]\n",
    "    \n",
    "    # your code here\n",
    "    \n",
    "    for i in x:\n",
    "        if i in word_list:\n",
    "            return False\n",
    "        else:\n",
    "            return True"
   ]
  },
  {
   "cell_type": "markdown",
   "metadata": {},
   "source": [
    "Use the `filter()` function to filter out the words speficied in the `word_filter()` function. Store the filtered list in the variable `prophet_filter`."
   ]
  },
  {
   "cell_type": "code",
   "execution_count": 91,
   "metadata": {},
   "outputs": [
    {
     "data": {
      "text/plain": [
       "True"
      ]
     },
     "execution_count": 91,
     "metadata": {},
     "output_type": "execute_result"
    }
   ],
   "source": [
    "prophet_filter = list(filter(word_filter,prophet_flat))\n",
    "\n",
    "\n",
    "word_filter(prophet_flat[2])"
   ]
  },
  {
   "cell_type": "markdown",
   "metadata": {},
   "source": [
    "# Bonus Challenge\n",
    "\n",
    "Rewrite the `word_filter` function above to not be case sensitive."
   ]
  },
  {
   "cell_type": "code",
   "execution_count": 94,
   "metadata": {},
   "outputs": [
    {
     "data": {
      "text/plain": [
       "True"
      ]
     },
     "execution_count": 94,
     "metadata": {},
     "output_type": "execute_result"
    }
   ],
   "source": [
    "def word_filter_case(x):\n",
    "   \n",
    "    word_list = ['and', 'the', 'a', 'an']\n",
    "    \n",
    "    # your code here\n",
    "    \n",
    "    for i in x:\n",
    "        if i.casefold() in word_list:\n",
    "            return False\n",
    "        else:\n",
    "            return True\n",
    "        \n",
    "        \n",
    "        \n",
    "prophet_filter = list(filter(word_filter,prophet_flat))\n",
    "\n",
    "\n",
    "word_filter(prophet_flat[2])"
   ]
  },
  {
   "cell_type": "markdown",
   "metadata": {},
   "source": [
    "# Challenge 3 - Reducing\n",
    "\n",
    "#### Now that we have significantly cleaned up our text corpus, let's use the `reduce()` function to put the words back together into one long string separated by spaces. \n",
    "\n",
    "We will start by writing a function that takes two strings and concatenates them together with a space between the two strings."
   ]
  },
  {
   "cell_type": "code",
   "execution_count": 95,
   "metadata": {},
   "outputs": [],
   "source": [
    "def concat_space(a, b):\n",
    "    '''\n",
    "    Input:Two strings\n",
    "    Output: A single string separated by a space\n",
    "        \n",
    "    Example:\n",
    "    Input: 'John', 'Smith'\n",
    "    Output: 'John Smith'\n",
    "    '''\n",
    "    \n",
    "    # your code here\n",
    "    return a + \" \" + b"
   ]
  },
  {
   "cell_type": "markdown",
   "metadata": {},
   "source": [
    "Use the function above to reduce the text corpus in the list `prophet_filter` into a single string. Assign this new string to the variable `prophet_string`."
   ]
  },
  {
   "cell_type": "code",
   "execution_count": 97,
   "metadata": {},
   "outputs": [
    {
     "data": {
      "text/plain": [
       "'PROPHET |Almustafa, the chosen the beloved, who was dawn unto his own day, had waited twelve years in the city of Orphalese for his ship that was to return bear him back to the isle of his birth. And in the twelfth year, on the seventh day of Ielool, the month of reaping, he climbed the hill without the city walls looked seaward; he beheld his ship coming with the mist. Then the gates of his heart were flung open, his joy flew far over the sea. And he closed his eyes prayed in the silences of his soul. ***** But he descended the hill, sadness came upon him, he thought in his heart: How shall I go in peace without sorrow? Nay, not without wound in the spirit shall I leave this city. the days of pain I have spent within its walls, long were the nights of who can depart from his pain his without regret? Too many fragments of the spirit have I scattered in these streets, too many the children of my longing that walk naked these hills, I cannot withdraw from them without burden It is not garment I cast off this day, but skin that I tear with my own hands. Nor is it thought I leave behind me, but heart made sweet with hunger with thirst. ***** Yet I cannot tarry longer. The sea that calls things unto her calls me, I must embark. For to stay, though the hours burn in the night, is to freeze crystallize be bound in mould. Fain would I take with me that is here. But how shall I? A voice cannot carry the tongue lips that gave it wings. Alone must it seek the ether. And without his nest shall the eagle fly the sun. ***** Now when he reached the foot of the hill, he turned towards the sea, he saw his ship the harbour, upon her prow the mariners, the men of his own land. And his soul cried out to them, he said: Sons of my mother, you riders of the tides, How often have you sailed in my dreams. And now you come in my which is my deeper dream. Ready I to go, my eagerness with sails full set the wind. Only breath will I breathe in this still only loving look cast backward, And then I shall stand you, seafarer seafarers. you, vast sea, sleepless mother, Who peace freedom to the river the stream, Only winding will this stream make, only murmur in this glade, And then shall I come to you, boundless drop to boundless ocean. ***** And he walked he saw from men women leaving their fields their vineyards hastening towards the city gates. And he heard their voices calling his name, shouting from field to field telling one of the coming of his ship. And he said to himself: Shall the day of parting be the day of gathering? And shall it be said that my eve was in truth my dawn? And what shall I give unto him who has left his plough in midfurrow, or to him who has stopped the wheel of his winepress? my heart become tree heavy-laden with fruit that I may gather give unto them? And shall my desires flow like fountain that I may fill their cups? Am I harp that the hand of the mighty may touch me, or flute that his breath may pass through me? A seeker of silences I, what treasure have I found in silences that I may dispense with confidence? If this is my day of harvest, in what fields have I sowed the seed, in what unremembered seasons? If this indeed be the hour in which I lift up my lantern, it is not my flame that shall burn therein. Empty dark shall I raise my lantern, And the guardian of the night shall fill it with oil he shall light it ***** These things he said in words. But much in his heart remained unsaid. For could not speak his deeper secret. ***** [Illustration: 0020] And when he entered into the city the people came to meet him, they were crying out to him with one voice. And the elders of the city stood forth said: Go not yet from us. A noontide have you been in our twilight, your youth has given us dreams to dream. No stranger you us, nor guest, but our son our dearly beloved. Suffer not yet our eyes to hunger for your face. ***** And the priests the priestesses said unto him: Let not the waves of the sea separate us now, the years you have spent in our midst become memory. You have walked us spirit, your shadow has been light upon our faces. Much have we loved you. But speechless was our love, with veils has it been veiled. Yet now it cries unto you, would stand revealed before you. And ever has it been that love knows not its own depth until the hour of separation. ***** And others came entreated him. But he them not. He only bent his head; those who stood near saw his tears falling upon his breast. And he the people proceeded towards the great square before the temple. And there came out of the sanctuary woman whose name was Almitra. And she was seeress. And he looked upon her with exceeding tenderness, for it was she who had first sought believed in him when he had been but day in their city. hailed him, saying: Prophet of God, in quest of the uttermost, long have you searched the distances for your ship. And now your ship has come, you must needs go. Deep is your longing for the land of your memories the dwelling place of your greater desires; our love would not bind you nor our needs hold you. Yet this we ere you leave us, that you speak to us give us of your truth. And we will give it unto our children, they unto their children, it shall not perish. In your you have watched with our days, in your wakefulness you have listened to the weeping the laughter of our sleep. Now therefore disclose us to ourselves, tell us that has been shown you of that which is between birth death. ***** And he People of Orphalese, of what can I save of that which is even now moving within your souls? ***** ***** Then said Almitra, Speak to us of _Love_. And he raised his head looked upon the people, there fell stillness upon them. And with great voice he said: When love beckons to you, follow him, Though his ways hard steep. And when his wings enfold you yield to him, Though the sword hidden his pinions may wound you. And when he speaks to you believe in him, Though his voice may shatter your dreams the north wind lays waste the garden. For even love crowns you so shall he crucify you. Even he is for your growth so is he for your pruning. Even he to your height your tenderest branches that quiver in the sun, So shall he descend to your roots shake them in their clinging to the earth. ***** Like sheaves of corn he gathers you unto himself. He threshes you to make you naked. He sifts you to free you from your husks. He grinds you to whiteness. He kneads you until you pliant; And then he you to his sacred fire, that you may become sacred bread for God’s sacred feast. ***** All these things shall love do unto you that you may know the secrets of your heart, in that knowledge become fragment of Life’s heart. But if in your fear you would seek only love’s peace love’s pleasure, Then it is better for you that you cover nakedness pass out of love’s threshing-floor, Into the seasonless world where you shall laugh, but not of your laughter, weep, but not of your tears. ***** Love gives naught but itself takes naught but from itself. Love possesses not nor would it be possessed; For love is sufficient unto love. When you love you should not say, “God is in my heart,” but rather, “I in the heart of God.” And think not you can direct the course of love, for love, if it finds you worthy, directs your course. Love has no other desire but to fulfil itself. But if you love must needs have desires, let these be your desires: To melt be like running brook that sings its melody to the night. the pain of too much tenderness. To be wounded by your own understanding of love; And to bleed willingly joyfully. To wake dawn with winged heart give thanks for day of loving; To rest the noon hour meditate love’s ecstacy; To return home eventide with gratitude; And then to sleep with prayer for the beloved in your heart song of praise upon your lips. [Illustration: 0029] ***** ***** Almitra spoke said, And what of _Marriage_ master? And he saying: You were born together, together you shall be forevermore. You shall be together when the white wings of death scatter your days. Aye, you shall be together even in the silent memory of God. But let there be spaces in your togetherness, And let the winds of the heavens dance between you. ***** Love one but make not bond of love: Let it rather be moving sea between the shores of your souls. Fill each other’s cup but drink not from one cup. Give one of your bread but eat not from the same loaf. dance together be joyous, but let each one of you be Even the strings of lute though they quiver with the same music. ***** Give your hearts, but not into each other’s keeping. For only the hand of Life can contain your hearts. And stand together yet not too near together: For the pillars of the temple stand And the oak tree the cypress grow not in each other’s shadow. [Illustration: 0032] ***** ***** woman who held babe her bosom said, Speak to us of _Children_. And he said: Your children not your children. They the sons daughters of Life’s longing for itself. They come through you but not from you, And though they with you yet they belong not to you. ***** You may give them your love but not your thoughts, For they have their own thoughts. You may house their bodies but not their souls, For their souls dwell in the house of tomorrow, which you cannot visit, not even in your dreams. You may strive to be like them, but seek not to make them like you. goes not backward nor tarries with yesterday. You the bows from which your children living sent forth. The sees the mark upon the path of the infinite, He bends you with His might that His may go swift far. Let your bending in the Archer’s hand be for gladness; For even he loves the that flies, so He loves the bow that is stable. ***** ***** said rich man, Speak to us of _Giving_. And he You give but little when you give of your possessions. It is when you give of yourself that you truly give. For what your possessions but things you keep guard for fear you may need them tomorrow? And tomorrow, what shall tomorrow bring to the overprudent dog burying bones in the trackless sand he follows the pilgrims to the holy city? And what is fear of need but need itself? Is not dread of thirst when your well is full, the thirst that is unquenchable? There those who give little of the which they have--and they give it for recognition their hidden desire makes their gifts unwholesome. And there those who have little give it These the believers in life the bounty of life, their coffer is never empty. There those who give with joy, that joy is their reward. And there those who give with pain, that pain is their baptism. And there those who give know not pain in giving, nor do they seek joy, nor give with mindfulness of virtue; They give in yonder valley the myrtle breathes its fragrance into space. Through the hands of such these God speaks, from behind their eyes He smiles upon the earth. [Illustration: 0039] It is well to give when but it is better to give unasked, through understanding; And to the open-handed the search for who shall receive is joy greater than giving. And is there you would withhold? All you have shall some day be given; Therefore give now, that the season of giving may be yours not your inheritors’. You often say, “I would give, but only to the deserving.” The trees in your orchard say not so, nor the flocks in your pasture. They give that they may live, for to withhold is to perish. Surely he who is worthy to receive his days his nights, is worthy of else from you. And he who has deserved to drink from the ocean of life deserves to fill his cup from your little stream. And what desert greater shall there be, than that which lies in the courage the confidence, nay the charity, of receiving? And who you that men should rend bosom unveil their pride, that you may see their worth naked their pride unabashed? See first that you yourself deserve to be giver, instrument of giving. For in truth it is life that gives unto life--while you, who deem yourself giver, but witness. And you receivers--and you receivers--assume no weight of gratitude, lest you lay yoke upon yourself upon him who gives. Rather rise together with the giver on his gifts on wings; For to be overmindful of your debt, is ito doubt his generosity who has the freehearted earth for mother, God for father. [Illustration: 0042] ***** ***** old man, keeper of inn, said, Speak to us of _Eating Drinking_. And he said: Would that you could live on the fragrance of the earth, like plant be sustained by the light. But since you must kill to eat, rob the newly born of its mother’s milk to quench your thirst, let it then be of worship, And let your board stand on which the pure the innocent of forest plain sacrificed for that which is purer still more innocent in man. ***** When you kill beast say to him in your heart, “By the same power that slays you, I too slain; I too shall be consumed. the law that delivered you into my hand shall deliver me into mightier hand. Your blood my blood is naught but the sap that feeds the tree of heaven.” ***** And when you crush with your teeth, say to it in your heart, “Your seeds shall live in my body, And the buds of your tomorrow shall blossom in my heart, And your fragrance shall be my breath, And together we shall rejoice through the seasons.” ***** And in the when you gather the grapes of your vineyards for the winepress, say in your heart, “I too vineyard, my fruit shall be gathered for the winepress, And like new wine I shall be kept in eternal vessels.” And in winter, when you draw the wine, there be in your heart song for each cup; And let there be in the song remembrance for the days, for the vineyard, for the winepress. ***** ***** Then ploughman said, Speak to us of _Work_. And he saying: You work that you may keep pace with the earth the soul of the earth. For to be idle is to become stranger unto the seasons, to step out of life’s procession, that marches in majesty proud submission towards the infinite. When you work you flute through whose heart the whispering of the hours turns to music. Which of you would be reed, dumb silent, when else sings together in unison? Always you have been told that work is curse labour misfortune. But I say to you that when you work you fulfil part of earth’s furthest dream, to you when that dream was born, And in keeping yourself with labour you in truth loving life, And to love life through labour is to be intimate with life’s inmost secret. ***** But if you in your pain call birth the support of the flesh curse written upon your brow, then I that naught but the sweat of your brow shall wash that which is written. You have been told that life is darkness, in your weariness you echo what was said by the weary. And I say that life is indeed darkness ‘save when there is urge, And urge is blind save when there is knowledge, And knowledge is vain save when there is work, And work is empty save when there is love; And when you work with love you bind to yourself, to one to God. ***** And what is it to work with love? It is to weave the cloth with threads drawn from your heart, even if your beloved were to wear that cloth. It is to build house with even if your beloved were to dwell in that house. It is to sow seeds with tenderness reap the harvest with joy, even if your beloved were to eat the fruit. It is to charge things you fashion with breath of your own spirit, And to know that the blessed dead standing you watching. Often have I heard you say, if speaking in sleep, “He who works in marble, finds the shape of his own soul in the stone, is nobler than he who ploughs the soil. he who seizes the rainbow to lay it on cloth in the likeness of man, is more than he who makes the sandals for our feet.” But I say, not in sleep but in the overwakefulness of noontide, that the wind speaks not more sweetly to the giant oaks than to the least of the blades of grass; And he is great who turns the voice of the wind into song made sweeter by his own loving. ***** Work is love made visible. And if you cannot work with love but only with distaste, it is better that you should leave your work sit the gate of the temple take of those who work with joy. For if you bake bread with indifference, you bake bitter bread that feeds but half man’s hunger. And if you grudge the crushing of the grapes, your grudge distils poison in the wine. if you sing though love not the singing, you muffle man’s ears to the voices of the day the voices of the night. ***** ***** woman said, Speak to us of _Joy Sorrow_. And he Your joy is your sorrow unmasked. And the selfsame well from which your laughter rises was oftentimes filled with your tears. And how else can it be? The deeper that sorrow carves into your being, the more joy you can contain. Is not the cup that holds your wine the very cup that was burned in the potter’s oven? And is not the lute that soothes your spirit, the very wood that was hollowed with knives? When you joyous, look deep into your heart you shall find it is only that which has given you sorrow that is giving you joy. When you sorrowful look in heart, you shall see that in truth you weeping for that which has been your delight. ***** Some of you say, “Joy is greater than sorrow,” others say, “Nay, sorrow is the greater.” But I say unto you, they inseparable. Together they come, when one sits with you your board, remember that the other is upon your bed. Verily you suspended like scales between your sorrow your joy. Only when you empty you standstill balanced. When the treasure-keeper lifts you to weigh his gold his silver, needs must your joy or your sorrow rise or fall. ***** ***** mason came forth said, Speak to us of _Houses_. And he said: Build of your imaginings bower in the wilderness ere you build house within the city walls. For even you have home-comings in your twilight, so has the wanderer in you, the ever distant Your house is your larger body. It grows in the sun sleeps in the stillness of the night; it is not dreamless. Does not your house dream? dreaming, leave the city for grove or hilltop? Would that I could gather your houses into my hand, like sower scatter them in forest meadow. Would the valleys were your streets, the green paths your that you seek one through vineyards, come with the fragrance of the earth in your garments. But these things not yet to be. In their fear your forefathers gathered you too near together. And that fear shall endure little longer. A little longer shall your city walls separate your hearths from your fields. ***** And tell me, people of Orphalese, what have you in these houses? And what is it you guard with fastened doors? Have you peace, the quiet urge that reveals your power? Have you remembrances, the glimmering that span the summits of the mind? Have you beauty, that leads the heart from things fashioned of wood stone to the holy mountain? Tell me, have you these in your houses? Or have you only comfort, the lust for comfort, that stealthy thing that the house guest, then becomes host, then master? ***** Ay, it becomes tamer, with hook scourge makes puppets of your larger desires. Though its hands silken, its heart is of iron. It lulls you to sleep only to stand by your bed jeer the dignity of the flesh. It makes mock of your sound senses, lays them in thistledown like fragile vessels. Verily the lust for comfort murders the passion of the soul, then walks grinning in the funeral. But you, children of space, you restless in rest, you shall not be trapped nor tamed. Your house shall be not but mast. It shall not be glistening film that wound, but eyelid that guards the eye. You shall not fold your wings that you may pass through doors, nor bend your heads that they strike not ceiling, nor fear to breathe lest walls should crack fall down. You shall not dwell in tombs made by the dead for the living. And though of magnificence splendour, your house shall not hold your secret nor shelter your longing. For that which is boundless in you in the mansion of the sky, whose door is the morning mist, whose windows the songs the silences of night. ***** ***** the weaver said, Speak to us of _Clothes_. And he Your clothes conceal much of your beauty, yet they hide not the unbeautiful. And though you seek in garments the freedom of privacy you may find in them harness chain. Would that you could meet the sun the wind with more of your skin less of your raiment, For the breath of life is in the sunlight the hand of life is in the wind. Some of you say, “It is the north wind who has woven the clothes we wear.” And I say, Ay, it was the north wind, But shame was his loom, the softening of the sinews was his thread. And when his work was done he laughed in the forest. not that modesty is for shield the eye of the unclean. And when the unclean shall be no more, what were modesty but fetter fouling of the mind? And forget not that the earth delights to feel your bare feet the winds long to play with your hair. ***** ***** merchant said, Speak to us of _Buying Selling_. And he said: To you the earth yields her fruit, you shall not want if you but know how to fill your hands. It is in exchanging the gifts of the earth that you shall find be satisfied. Yet unless the exchange be in love kindly justice, it will but lead some to greed others to hunger. When in the market place you toilers of the sea fields vineyards meet the weavers the potters the gatherers of spices,-- Invoke then the master spirit of the earth, to come into your midst sanctify the scales the reckoning that weighs value value. not the barren-handed to take part in your transactions, who would sell their words for your labour. To such men you should say, “Come with us to the field, or go with our brothers to the sea cast your net; For the land the sea shall be bountiful to you even to us.” ***** And if there come the singers the dancers the flute players,--buy of their gifts For they too gatherers of fruit frankincense, that which they bring, though fashioned of dreams, is raiment food for your soul. And before you leave the market place, see that no one has gone his way with empty hands. For the master spirit of the earth shall not sleep peacefully upon the wind till the needs of the least of you satisfied. ***** ***** one of the judges of the city stood forth said, Speak to us of _Crime Punishment_. And he saying: It is when your spirit goes wandering upon the wind, That you, unguarded, commit wrong unto others therefore unto yourself. And for that wrong committed must you knock wait while unheeded the gate of the blessed. Like the ocean is your god-self; It remains for ever undefiled. And like the ether it lifts but the winged. Even like the sun is your god-self; It knows not the ways of the mole nor seeks it the holes of the serpent. your god-self dwells not in your being. Much in you is still man, much in you is not yet man, But shapeless pigmy that walks in the mist searching for its own And of the man in you would I now speak. For it is he not your god-self nor the pigmy in the mist, that knows crime the punishment of crime. ***** Oftentimes have I heard you speak of one who commits wrong though he were not one of you, but stranger unto you intruder upon your world. But I say that even the holy the righteous cannot rise beyond the highest which is in each one of you, So the wicked the weak cannot fall lower than the lowest which is in you And single leaf turns not yellow but with the silent knowledge of the whole tree, the wrong-doer cannot do wrong without the hidden will of you Like procession you walk together towards your god-self. [Illustration: 0064] You the way the wayfarers. And when one of you falls down he falls for those behind him, caution the stumbling stone. Ay, he falls for those of him, who though faster surer of foot, yet removed not the stumbling stone. And this though the word lie heavy upon your hearts: The murdered is not unaccountable for his own murder, And the robbed is not blameless in being robbed. The righteous is not innocent of the deeds of the wicked, And the white-handed is not clean in the doings of the felon. Yea, the guilty is oftentimes the victim of the injured, And still more often the condemned is burden bearer for the guiltless unblamed. You cannot separate the just from the unjust the good from the wicked; For they stand together before the face of the sun even the black thread the white woven together. And when the black thread breaks, the weaver shall look into the whole cloth, he shall examine the loom ***** If of you would bring to judgment the unfaithful wife, Let him weigh the heart of her husband in scales, measure his soul with measurements. And let him who would lash the offender look unto the spirit of the offended. And if of you would punish in the name of righteousness lay the unto the evil tree, let him see to its roots; And verily he will find the roots of the good the bad, the fruitful the entwined together in the silent heart of the earth. And you judges who would be just, What judgment pronounce you upon him who though honest in the flesh yet is thief in spirit? What penalty lay you upon him who slays in the flesh yet is himself slain in the spirit? And how prosecute you him who in is deceiver oppressor, Yet who is outraged? ***** And how shall you punish those whose remorse is greater than their misdeeds? Is not remorse the justice which is by that very law which you would fain serve? Yet you cannot lay remorse upon the innocent nor lift it from the heart of the guilty. Unbidden shall it call in the night, that men may wake gaze upon themselves. you who would understand justice, how shall you unless you look upon deeds in the fullness of light? Only then shall you know that the erect the fallen but one man standing in twilight between the night of his pigmy-self the day of his god-self, And that the corner-stone of the temple is not higher than the lowest stone in its foundation. ***** ***** lawyer said, But what of our _Laws_, master? And he You delight in laying down laws, Yet you delight more in breaking them. Like children playing by the ocean who build sand-towers with constancy then destroy them with laughter. But while you build your sand-towers the ocean brings more sand to the shore, And when you destroy them the ocean laughs with you. Verily the ocean laughs with the innocent. But what of those to whom life is not ocean, man-made laws not sand-towers, But to whom life is rock, the law chisel with which they would carve it in their own likeness? of the cripple who hates dancers? What of the ox who loves his yoke deems the elk deer of the forest stray vagrant things? What of the old serpent who cannot shed his skin, calls others naked shameless? And of him who comes early to the wedding-feast, when over-fed tired goes his way saying that feasts violation feasters lawbreakers? ***** What shall I say of these save that they too stand in the sunlight, but with their backs to the sun? They see only their shadows, their shadows their laws. And what is the sun to them but caster of shadows? And what is it to the laws but to stoop down trace their shadows upon the earth? But you who walk facing the sun, what drawn on the earth can hold you? You who travel with the wind, what weather-vane shall direct your course? What man’s law shall bind you if you break your yoke but upon no man’s prison door? What laws shall you fear if you dance but stumble no man’s iron chains? And who is he that shall bring you to judgment if you tear off your garment yet leave it in no man’s path? ***** People of Orphalese, you can muffle the drum, you can loosen the strings of the lyre, but who shall command the skylark not to sing? ***** ***** orator said, Speak to us of _Freedom_. And he At the city gate by your fireside I have seen you prostrate yourself worship your own freedom, Even slaves humble themselves before tyrant praise him though he slays them. Ay, in the grove of the temple in the shadow of the citadel I have seen the freest you wear their freedom yoke handcuff. And my heart bled within me; for you can only be free when even the desire of seeking freedom becomes harness to you, when you cease to speak of freedom goal fulfilment. You shall be free indeed when your days not without care nor your without want grief, But rather when these things girdle your life yet you rise them naked unbound. ***** And how shall you rise beyond your days nights unless you break the chains which you the dawn of your understanding have fastened your noon hour? In truth that which you call freedom is the strongest of these chains, though its links glitter in the sun dazzle your eyes. And what is it but fragments of your own self you would discard that you may become free? If it is unjust law you would that law was written with your own hand upon your own forehead. You cannot erase it by burning your law books nor by washing the foreheads of your judges, though you pour the sea upon them. And if it is despot you would see first that his throne erected within you is destroyed. For how can tyrant rule the free the proud, but for tyranny in their own freedom shame in their own pride? And if it is care you would cast off, that cart has been chosen by you rather than imposed upon you. And if it is fear you would dispel, the seat of that fear is in your heart not in the hand of the feared. ***** Verily things move within your being in constant half embrace, the desired the dreaded, the repugnant the cherished, the pursued that which you would escape. These things move within you lights shadows in pairs that cling. And when the shadow fades is no more, the light that lingers becomes shadow to light. And thus your freedom when it loses its fetters becomes itself the fetter of greater freedom. ***** ***** the priestess spoke said: Speak to us of _Reason Passion_. And he saying: Your soul is oftentimes battlefield, upon which your reason your judgment wage war your passion your Would that I could be the peacemaker in your soul, that I might turn the discord the rivalry of your elements into oneness melody. But how shall I, unless you yourselves be the peacemakers, nay, the lovers of your elements? Your reason your passion the rudder the sails of your seafaring soul. If either your sails or your rudder be broken, you can but toss drift, or else be held standstill in mid-seas. reason, ruling is force confining; passion, unattended, is flame that burns to its own destruction. Therefore let your soul exalt your reason to the height of passion, that it may sing; And let it direct your passion with reason, that your passion may live through its own daily resurrection, like the phoenix rise its own ***** I would have you consider your judgment your even you would two loved guests in your house. Surely you would not honour one guest the other; for he who is more mindful of one loses the love the faith of both Among the hills, when you sit in the cool shade of the white poplars, sharing the peace serenity of distant fields meadows--then let your heart say in silence, “God rests in reason.” And when the storm comes, the wind shakes the forest, thunder lightning proclaim the majesty of the sky,--then let your heart say in “God moves in passion.” And since you breath in God’s sphere, leaf in God’s forest, you too should rest in reason move in passion. ***** ***** woman spoke, saying, Tell us of _Pain_. And he said: Your pain is the breaking of the shell that encloses your understanding. Even the stone of the fruit must break, that its heart may stand in the sun, so must you know pain. And could you keep your heart in wonder the daily miracles of your life, your pain would not seem less wondrous than your joy; And you would the seasons of your heart, even you have the seasons that pass over your fields. And you would watch with serenity through the winters of your grief. Much of your pain is self-chosen. It is the bitter potion by which the physician you heals your sick self. Therefore trust the physician, drink his remedy in silence tranquillity: For his hand, though heavy hard, is guided by the tender hand of the Unseen, And the cup he brings, though it burn your lips, has been fashioned of the clay which the Potter has moistened with His own sacred tears. ***** ***** man said, Speak to us of _Self-Knowledge_. And he saying: Your hearts know in silence the secrets of the days the nights. But your ears thirst for the sound of your heart’s knowledge. You would know in words that which you have known in thought. You would touch with your fingers the naked body of your dreams. And it is well you should. The hidden well-spring of your soul must needs rise run murmuring to the sea; And the treasure of your infinite depths would be revealed to your eyes. But let there be no scales to weigh your unknown treasure; And seek not the depths of your with staff or sounding line. For self is sea boundless measureless. ***** Say not, “I have found the truth,” but rather, “I have found truth.” Say not, “I have found the path of the soul.” Say rather, “I have met the soul walking upon my path.” For the soul walks upon paths. The soul walks not upon line, neither does it grow like reed. The soul unfolds itself, like lotus of countless petals. [Illustration: 0083] ***** ***** said teacher, Speak to us of _Teaching_. And he said: “No man can reveal to you but that which lies half in the dawning of your knowledge. The teacher who walks in the shadow of the temple, his followers, gives not of his wisdom but rather of his faith his lovingness. If he is indeed wise he does not bid you enter the house of his wisdom, but rather leads you to the threshold of your own mind. The may speak to you of his understanding of space, but he cannot give you his understanding. The musician may sing to you of the rhythm which is in space, but he cannot give you the ear which the rhythm nor the voice that echoes it. he who is versed in the science of numbers can tell of the regions of weight measure, but he cannot conduct you thither. For the vision of one man lends not its wings to man. And even each one of you stands in God’s knowledge, so must each one of you be in his knowledge of God in his understanding of the earth. ***** ***** youth said, Speak to us of _Friendship_. And he saying: Your friend is your needs He is your field which you sow with love reap with thanksgiving. And he is your board your fireside. For you come to him with your hunger, you seek him for peace. When your friend speaks his mind you fear not the “nay” in your own mind, nor do you withhold the “ay.” And when he is silent your heart ceases not to listen to his heart; For without words, in friendship, thoughts, desires, expectations born shared, with joy that is unacclaimed. When you part from your friend, you grieve not; For that which you love most in him may be clearer in his the mountain to the climber is clearer from the plain. let there be no purpose in friendship save the deepening of the spirit. For love that seeks but the disclosure of its own mystery is not love but net cast forth: only the unprofitable is caught. ***** And let your best be for your friend. If he must know the ebb of your tide, let him know its flood For what is your friend that you should seek him with hours to kill? Seek him with hours to live. For it is his to fill your need, but not your emptiness. And in the sweetness of friendship let there be laughter, sharing of pleasures. For in the dew of little things the heart finds its morning is refreshed. ***** ***** then scholar said, Speak of _Talking_. And he saying: You talk when you cease to be peace with your thoughts; And when you can no longer dwell in the solitude of your heart you live in your lips, sound is diversion pastime. And in much of your talking, thinking is half murdered. For thought is bird of space, that in cage of words may indeed unfold its wings but cannot fly. There those you who seek the talkative through fear of being The silence of reveals to their eyes their naked selves they would escape. And there those who talk, knowledge or forethought reveal truth which they themselves do not understand. And there those who have the truth within them, but they tell it not in words. In the bosom of such these the spirit dwells in rhythmic silence. ***** When you meet your friend on the roadside or in the market place, let the spirit in you move your lips direct your tongue. Let the voice within your voice speak to the ear of his ear; For his soul will keep the truth of your heart the taste of the wine is remembered When the colour is forgotten the vessel is no more. ***** ***** said, Master, what of _Time_? And he You would measure time the measureless the immeasurable. You would your conduct even direct the course of your spirit to hours seasons. Of time you would make stream upon whose bank you would sit watch its flowing. Yet the timeless in you is of life’s timelessness, And knows that yesterday is but today’s memory tomorrow is today’s dream. And that that which sings contemplates in you is still dwelling within the bounds of that first moment which scattered the stars into space. you does not feel that his power to love is boundless? And yet who does not feel that very love, though boundless, encompassed within the centre of his being, moving not from love thought to love thought, nor from love deeds to other love deeds? And is not time even love is, undivided paceless? ***** But if in your thought you must measure time into seasons, let each season encircle the other seasons, And let today embrace the past with remembrance the future with longing. ***** ***** one of the elders of the city said, Speak to us of _Good Evil_. And he Of the good in you I can speak, but not of the evil. For what is evil but good tortured by its own hunger thirst? Verily when good is hungry it seeks food even in dark caves, when it thirsts it drinks even of dead waters. You good when you one with yourself. Yet when you not one with yourself you not evil. For divided house is not den of thieves; it is only divided house. And ship without rudder may wander perilous isles yet sink not to the bottom. good when you strive to give of yourself. Yet you not evil when you seek gain for yourself. For when you strive for gain you but root that clings to the earth sucks her breast. Surely the fruit cannot say to the root, “Be like me, ripe full ever giving of your For to the fruit giving is need, receiving is need to the root. ***** You good when you fully in your speech, Yet you not evil when you sleep while your tongue staggers without purpose. And even stumbling speech may strengthen weak tongue. You good when you walk to your goal firmly with bold steps. Yet you not evil when you go thither limping. those who limp go not backward. But you who strong swift, see that you do not limp before the lame, deeming it kindness. ***** You good in countless ways, you not evil when you not good, You only loitering sluggard. Pity that the stags cannot teach swiftness to the turtles. In your longing for your giant self lies your goodness: that longing is in of you. But in some of you that longing is torrent rushing with might to the sea, carrying the secrets of the hillsides the songs of the forest. And in others it is flat stream that loses itself in bends lingers before it reaches the shore. But let not him who longs much say to who longs little, “Wherefore you slow halting?” For the truly good not the naked, “Where is your garment?” nor the houseless, “What has befallen your house?” ***** ***** priestess said, Speak to us of _Prayer_. And he saying: You pray in your distress in your need; would that you might pray in the fullness of your joy in your days of For what is prayer but the expansion of yourself into the living ether? And if it is for your comfort to pour your darkness into space, it is for your delight to pour forth the dawning of your heart. And if you cannot but weep when your soul summons you to prayer, she should spur you yet though weeping, until you shall come laughing. When you pray you rise to meet in the those who praying that very whom save in prayer you may not meet. Therefore let your visit to that temple invisible be for naught but ecstasy sweet communion. For if you should enter the temple for no other purpose than you shall not receive: And if you should enter into it to humble yourself you shall not be lifted: Or even if you should enter into it to beg for the good of others you shall not be heard. It is enough that you enter the temple invisible. ***** I cannot teach you how to pray in words. God listens not to your words save when He Himself utters them through your lips. And I cannot teach you the prayer of the seas the forests the mountains. you who born of the mountains the forests the seas can find their prayer in your heart, And if you but listen in the stillness of the night you shall hear them saying in silence, “Our God, who our winged self, it is thy will in us that willeth. It is thy desire in us that desireth. It is thy urge in us that would turn our nights, which thine, into days which thine We cannot thee for for thou knowest our needs before they born in us: Thou our need; in giving us more of thyself thou givest us [Illustration: 0100] ***** ***** hermit, who visited the city once year, came forth said, Speak to us of _Pleasure_. And he saying: Pleasure is freedom-song, But it is not freedom. It is the blossoming of your desires, But it is not their fruit. It is depth calling unto height, But it is not the deep nor the high. It is the caged taking wing, But it is not space encompassed. Ay, in very truth, pleasure is freedom-song. And I fain would have you sing it with fullness of heart; yet I would not have you lose your hearts in the singing. Some of your youth seek pleasure if it were they judged rebuked. would not judge nor rebuke them. I would have them seek. For they shall find pleasure, but not her Seven her sisters, the least of them is more beautiful than pleasure. Have you not heard of the man who was digging in the earth for roots found treasure? ***** And some of your elders remember pleasures with regret like wrongs committed in drunkenness. But regret is the beclouding of the mind not its chastisement. They should remember their pleasures with gratitude, they would the harvest of summer. Yet if it comforts them to regret, let them be comforted. And there you those who neither young to seek nor old to remember; And in their fear of seeking remembering shun pleasures, lest they neglect the spirit or offend it. But even in their foregoing is their pleasure. And thus they too find treasure though they dig for roots with quivering hands. But tell me, who is he that can offend the spirit? Shall the nightingale offend the stillness of the night, or the firefly the stars? And shall your flame or your smoke burden the wind? Think you the spirit is still pool which you can trouble with staff? ***** Oftentimes in denying yourself pleasure you do but store the desire in the recesses of your being. Who knows but that which seems omitted today, waits for tomorrow? Even your body knows its heritage its rightful need will not be deceived. And your body is the harp of your soul, And it is yours to bring forth from it or confused sounds. ***** And now you in your heart, “How shall we distinguish that which is good in pleasure from that which is not good?” Go to your fields your gardens, you shall learn that it is the pleasure of the bee to gather honey of the flower, But it is the pleasure of the flower to yield its honey to the bee. For to the bee flower is fountain of life, And to the flower bee is messenger of love, And to both, bee flower, the giving the receiving of pleasure is need ecstasy. People of Orphalese, be in your pleasures like the flowers the bees. ***** ***** poet said, Speak to us of _Beauty_. And he Where shall you seek beauty, how shall you find her unless she herself be your way your guide? And how shall you speak of her except she be the weaver of your speech? The the injured say, “Beauty is kind gentle. Like young mother half-shy of her own glory she walks us.” And the passionate say, “Nay, beauty is thing of might dread. Like the tempest she shakes the earth beneath us the sky us.” The tired the weary say, “Beauty is of soft whisperings. She speaks in our spirit. voice yields to our silences like faint light that quivers in fear of the shadow.” But the restless say, “We have heard her shouting the mountains, And with her cries came the sound of hoofs, the beating of wings the roaring of lions.” At night the watchmen of the city say, “Beauty shall rise with the dawn from the east.” And noontide the toilers the wayfarers say, “We have seen her leaning over the earth from the windows of the sunset.” ***** In winter say the snow-bound, “She shall come with the spring leaping upon the hills.” And in the summer heat the reapers say, “We have seen her dancing with the leaves, we saw drift of snow in her hair.” these things have you said of beauty, Yet in truth you spoke not of her but of needs unsatisfied, And beauty is not need but ecstasy. It is not mouth thirsting nor empty hand stretched forth, But rather heart enflamed soul enchanted. It is not the image you would see nor the song you would hear, But rather image you see though you close your eyes song you hear though you shut your ears. It is not the sap within the furrowed bark, nor wing to claw, But rather garden for ever in bloom flock of for ever in flight. ***** People of Orphalese, beauty is life when life unveils her holy face. But you life you the veil. is eternity gazing itself in mirror. But you eternity you the mirror. ***** ***** old priest said, Speak to us of _Religion_. And he said: Have I spoken this day of else? Is not religion deeds reflection, And that which is neither deed nor reflection, but wonder surprise ever springing in the soul, even while the hands hew the stone or tend the loom? Who can separate his faith from his or his belief from his occupations? Who can spread his hours before him, saving, “This for God this for myself; This for my soul, this other for my body?” All your hours wings that beat through space from self to self. wears his morality but his best garment were better naked. The wind the sun will tear no holes in his skin. And he who defines his conduct by ethics imprisons his song-bird in cage. The freest song comes not through bars wires. And he to whom worshipping is window, to open but to shut, has not yet visited the house of his soul whose windows from dawn to dawn. ***** Your daily life is your temple your religion. Whenever you enter into it take with you your Take the plough the forge the mallet the lute, The things you have fashioned in necessity or for delight. For in revery you cannot rise your nor fall lower than your failures. And take with you men: in you cannot fly higher than their hopes nor humble yourself lower than their despair. ***** And if you would know God be not therefore solver of riddles. Rather look you you shall see Him playing with your children. And look into space; you shall see Him walking in the cloud, outstretching His in the lightning descending in rain. You shall see Him smiling in flowers, then rising waving His hands in trees. ***** ***** Almitra spoke, saying, We would now of _Death_. And he said: You would know the secret of death. But how shall you find it unless you seek it in the heart of life? The owl whose night-bound eyes blind unto the day cannot unveil the mystery of light. If you would indeed behold the spirit of death, open your heart wide unto the body of life. For life death one, even the river the sea one. In the depth of your hopes desires lies your silent knowledge of the beyond; And like seeds dreaming beneath the snow your heart dreams of spring. Trust the dreams, for in them is hidden the gate to eternity. fear of death is but the trembling of the shepherd when he stands before the king whose hand is to be laid upon him in honour. Is the shepherd not joyful beneath his trembling, that he shall wear the mark of the king? Yet is he not more mindful of his trembling? ***** For what is it to die but to stand naked in the wind to melt into the sun? And what is it to cease breathing, but to free the breath from its restless tides, that it may rise expand seek God unencumbered? Only when you drink from the river of silence shall you indeed sing. And when you have reached the mountain top, then you shall begin to climb. And when the earth shall claim your limbs, then shall you truly dance. now it was evening. And Almitra the seeress said, Blessed be this day this place your spirit that has spoken. And he Was it I who spoke? Was I not listener? ***** Then he descended the steps of the Temple the people followed him. And he reached his ship stood upon the deck. And facing the people he raised his voice said: People of Orphalese, the wind bids me leave you. Less hasty I than the wind, yet I must go. We wanderers, ever seeking the lonelier way, begin no day where we have ended day; no sunrise finds us where sunset left us. while the earth sleeps we travel. We the seeds of the tenacious plant, it is in our ripeness our fullness of heart that we given to the wind scattered. ***** Brief were my days you, briefer still the words I have spoken. But should my voice fade in your ears, my love vanish in your memory, then I will come And with richer heart lips more yielding to the spirit will I speak. Yea, I shall return with the tide, And though death may hide me, the greater silence enfold me, yet will I seek your understanding. And not in vain will I seek. If I have said is truth, that truth shall reveal itself in clearer voice, in words more kin to your thoughts. I go with the wind, people of Orphalese, but not down into emptiness; if this day is not fulfilment of your needs my love, then let it be promise till day. Man’s needs change, but not his love, nor his desire that his love should satisfy his needs. Know therefore, that from the greater silence I shall return. The mist that drifts dawn, leaving but dew in the fields, shall rise gather into cloud then fall down in rain. And not unlike the mist have I been. In the stillness of the night I have walked in your streets, my spirit has entered your houses, And your heart-beats were in my heart, your breath was upon my face, I knew you Ay, I knew your joy your pain, in your sleep your dreams were my dreams. And oftentimes I was you lake the mountains. I mirrored the summits in you the slopes, even the passing flocks of your thoughts your desires. And to my silence came the laughter of your children in streams, the longing of your youths in rivers. And when they reached my depth the streams the rivers ceased not yet to sing. [Illustration: 0119] But sweeter still than laughter greater than longing came to me. It was the boundless in you; The vast man in whom you but cells sinews; He in whose chant your singing is but soundless throbbing. It is in the vast man that you vast, And in beholding him that I beheld you loved you. For what distances can love reach that not in that vast sphere? What visions, what expectations what presumptions can outsoar that flight? Like giant oak tree covered with blossoms is the vast man in you. binds you to the earth, his fragrance lifts you into space, in his durability you deathless. ***** You have been told that, even like chain, you weak your weakest link. This is but half the truth. You strong your strongest link. To measure you by your smallest deed is to reckon the power of ocean by the frailty of its foam. To judge you by your failures is to cast blame upon the seasons for their inconstancy. Ay, you like ocean, And though heavy-grounded ships the tide upon your shores, yet, even like ocean, you cannot hasten your tides. And like the seasons you And though in your winter you deny your spring, Yet spring, reposing within you, smiles in her drowsiness is not offended. not I say these things in order that you may say the one to the other, “He praised us well. He saw but the good in us.” I only speak to you in words of that which you yourselves know in thought. And what is word knowledge but shadow of wordless knowledge? Your thoughts my words waves from sealed memory that keeps records of our yesterdays, And of the days when the earth knew not us nor herself, And of nights when earth was up-wrought with confusion. ***** Wise men have come to you to give you of their wisdom. I came to take of your wisdom: And behold I have found that which is greater than wisdom. It is flame spirit in you ever gathering more of itself, While you, heedless of its expansion, bewail the withering of your days. is life in quest of life in bodies that fear the grave. ***** There no graves here. These mountains plains cradle stepping-stone. Whenever you pass by the field where you have laid your look well thereupon, you shall see yourselves your children dancing hand in hand. Verily you often make merry without knowing. Others have come to you to whom for golden promises made unto your faith you have given but riches power glory. Less than promise have I given, yet more generous have you been to me. You have given me my deeper thirsting life. Surely there is no greater gift to man than that which turns his into parching lips life into fountain. [Illustration: 0125] in this lies my honour my reward,-- That whenever I come to the fountain to drink I find the living water itself thirsty; And it drinks me while I drink it. ***** Some of you have deemed me proud over-shy to receive gifts. Too proud indeed I to receive wages, but not gifts. And though I have eaten berries the hills when you would have had me sit your board, And slept in the portico of the temple when you would gladly have sheltered me, Yet was it not your loving mindfulness of my days my nights that made food sweet to my mouth girdled my sleep with visions? For this I bless you most: You give much know not that you give the kindness that gazes upon itself in mirror turns to stone, And good deed that calls itself by tender names becomes the parent to curse. ***** And some of you have called me drunk with my own And you have said, “He holds council with the trees of the forest, but not with men. He sits on hill-tops looks down upon our city.” True it is that I have climbed the hills walked in remote places. How could I have seen you save from great height or great distance? How can one be indeed near unless he be tar? And others you called unto me, not in words, they said, “Stranger, stranger, lover of unreachable heights, why dwell you the summits where eagles build their nests? seek you the unattainable? What storms would you trap in your net, And what vaporous birds do you hunt in the sky? Come be one of us. Descend your hunger with our bread quench your thirst with our wine.” In the solitude of their souls they said these things; But were their solitude deeper they would have known that I sought but the secret of your joy your pain, And I hunted only your larger selves that walk the sky. ***** But the hunter was the hunted; For many of my left my bow only to seek my own breast. And the flier was the creeper; For when my wings were spread in the sun their shadow upon the earth was turtle. And I the believer was the doubter; often have I put my finger in my own wound that I might have the greater belief in you the greater knowledge of you. ***** And it is with this belief this knowledge that I say, You not enclosed within your bodies, nor confined to houses or fields. That which is you dwells the mountain roves with the wind. It is not thing that crawls into the sun for warmth or digs holes into darkness for safety, But thing free, spirit that envelops the earth moves in the ether. If these be vague words, then seek not to clear them. Vague nebulous is the beginning of things, but not their end, And I fain would have you remember me beginning. Life, that lives, is conceived in the mist not in the crystal. who knows but crystal is mist in decay? ***** This would I have you remember in remembering me: That which seems most feeble bewildered in you is the strongest most determined. Is it not your breath that has erected hardened the structure of your bones? And is it not dream which none of you remember having dreamt, that builded your city fashioned there is in it? Could you but see the tides of that breath you would cease to see else, And if you could hear the whispering of the dream you would hear no other sound. But you do not see, nor do you hear, it is well. The veil that clouds your eyes shall be lifted by the hands that wove it, And the clay that fills your ears shall be pierced by those fingers that kneaded it. you shall see. And you shall hear. Yet you shall not deplore having known blindness, nor regret having been deaf. For in that day you shall know the hidden purposes in things, And you shall bless darkness you would bless light. After saying these things he looked him, he saw the pilot of his ship standing by the helm gazing now the full sails now the distance. And he said: Patient, over patient, is the captain of my ship. The wind blows, restless the sails; Even the rudder begs direction; Yet quietly my captain my silence. And these my mariners, who have heard the choir of the greater sea, they too have heard me patiently. they shall wait no longer. I ready. The stream has reached the sea, once more the great mother holds her son her breast. ***** Fare you well, people of Orphalese. This day has ended. It is closing upon us even the water-lily upon its own tomorrow. What was given us here we shall keep, And if it suffices not, then must we come together together stretch our hands unto the giver. Forget not that I shall come back to you. A little while, my longing shall gather dust foam for body. A little while, moment of rest upon the wind, woman shall bear me. Farewell to you the youth I have spent with you. It was but yesterday we met in dream. have sung to me in my I of your longings have built tower in the sky. But now our sleep has fled our dream is over, it is no longer dawn. The noontide is upon us our half waking has turned to fuller day, we must part. If in the twilight of memory we should meet once more, we shall speak together you shall sing to me deeper song. And if our hands should meet in dream we shall build tower in the sky. ***** So saying he made signal to the seamen, straightway they weighed cast the ship loose from its moorings, they moved eastward. And cry came from the people from single heart, it rose into the dusk was carried out over the sea like great trumpeting. Only Almitra was silent, gazing ship until it had vanished into the mist. And when the people were dispersed she still stood upon the sea-wall, remembering in her heart his saying, “A little while, moment of rest upon the wind, woman shall bear me.” [Illustration: 0134] End of the Project Gutenberg EBook of The Prophet, by Kahlil Gibran *** END OF THIS PROJECT GUTENBERG EBOOK THE PROPHET *** ***** This file should be named 58585-0.txt or 58585-0.zip ***** This files of various formats will be found in: http://www.gutenberg.org/5/8/5/8/58585/ Produced by David Widger from page images generously provided by the Internet Archive Updated editions will replace the previous one--the old editions will be renamed. Creating the works from print editions not protected by U.S. copyright law means that no one owns United States copyright in these works, so the Foundation (and you!) can copy distribute it in the United States without permission without paying copyright royalties. Special rules, set forth in the General Terms of Use part of this license, to copying distributing Project Gutenberg-tm electronic works to protect the PROJECT GUTENBERG-tm concept trademark. Project Gutenberg is registered trademark, may not be used if you charge for the eBooks, unless you receive specific permission. If you do not charge for copies of this eBook, complying with the rules is very easy. You may use this eBook for nearly purpose such creation of derivative works, reports, performances research. They may be modified printed given may do practically ANYTHING in the United States with eBooks not protected by U.S. copyright law. Redistribution is subject to the trademark license, especially commercial redistribution. START: FULL LICENSE THE FULL PROJECT GUTENBERG LICENSE PLEASE READ THIS BEFORE YOU DISTRIBUTE OR USE THIS WORK To protect the Project Gutenberg-tm mission of promoting the free distribution of electronic works, by using or distributing this work (or other work in way with the phrase \"Project Gutenberg\"), you to comply with the terms of the Full Project Gutenberg-tm License with this file or online www.gutenberg.org/license. Section 1. General Terms of Use Redistributing Project Gutenberg-tm electronic works 1.A. By reading or using part of this Project Gutenberg-tm electronic work, you indicate that you have read, understand, to the terms of this license intellectual property (trademark/copyright) If you do not to by the terms of this you must cease using return or destroy copies of Project Gutenberg-tm electronic works in your possession. If you paid fee for obtaining copy of or to Project Gutenberg-tm electronic work you do not to be bound by the terms of this you may obtain refund from the person or entity to whom you paid the fee set forth in paragraph 1.E.8. 1.B. \"Project Gutenberg\" is registered trademark. It may only be used on or in way with electronic work by people who to be bound by the terms of this There few things that you can do with most Project Gutenberg-tm electronic works even without complying with the full terms of this See paragraph 1.C below. There lot of things you can do with Project Gutenberg-tm electronic works if you follow the terms of this help preserve free future to Project Gutenberg-tm electronic works. See paragraph 1.E below. 1.C. The Project Gutenberg Literary Archive Foundation (\"the Foundation\" or PGLAF), owns compilation copyright in the collection of Project Gutenberg-tm electronic works. Nearly the individual works in the collection in the public domain in the United States. If individual work is unprotected by copyright law in the United States you located in the United States, we do not claim right to prevent you from copying, distributing, performing, displaying or creating derivative works based on the work long references to Project Gutenberg removed. Of course, we hope that you will support the Project Gutenberg-tm mission of promoting free to electronic works by freely sharing Project Gutenberg-tm works in compliance with the terms of this for keeping the Project Gutenberg-tm name with the work. You can easily comply with the terms of this by keeping this work in the same format with its full Project Gutenberg-tm License when you share it without charge with others. 1.D. The copyright laws of the place where you located govern what you can do with this work. Copyright laws in most countries in constant state of change. If you outside the United States, check the laws of your country in to the terms of this before downloading, copying, displaying, performing, distributing or creating derivative works based on this work or other Project Gutenberg-tm work. The Foundation makes no representations concerning the copyright status of work in country outside the United States. 1.E. Unless you have removed references to Project Gutenberg: 1.E.1. The following sentence, with links to, or other immediate to, the full Project Gutenberg-tm License must prominently whenever copy of Project Gutenberg-tm work (any work on which the phrase \"Project Gutenberg\" or with which the phrase \"Project Gutenberg\" is is displayed, performed, viewed, copied or distributed: This eBook is for the use of in the United States most other parts of the world no cost with no restrictions whatsoever. You may copy it, give it or re-use it under the terms of the Project Gutenberg License included with this eBook or online www.gutenberg.org. If you not located in the United States, you\\'ll have to check the laws of the country where you located before using this ebook. 1.E.2. If individual Project Gutenberg-tm electronic work is derived from texts not protected by U.S. copyright law (does not contain notice indicating that it is posted with permission of the copyright holder), the work can be copied distributed to in the United States without paying fees or charges. If you redistributing or providing to work with the phrase \"Project Gutenberg\" with or on the work, you must comply either with the requirements of paragraphs 1.E.1 through 1.E.7 or obtain permission for the use of the work the Project Gutenberg-tm trademark set forth in paragraphs 1.E.8 or 1.E.9. 1.E.3. If individual Project Gutenberg-tm electronic work is posted with the permission of the copyright holder, your use distribution must comply with both paragraphs 1.E.1 through 1.E.7 terms imposed by the copyright holder. Additional terms will be linked to the Project Gutenberg-tm License for works posted with the permission of the copyright holder found the beginning of this work. 1.E.4. Do not unlink or detach or remove the full Project Gutenberg-tm License terms from this work, or files containing part of this work or other work with Project Gutenberg-tm. 1.E.5. Do not copy, display, perform, distribute or redistribute this electronic work, or part of this electronic work, without prominently displaying the sentence set forth in paragraph 1.E.1 with links or immediate to the full terms of the Project Gutenberg-tm License. 1.E.6. You may convert to distribute this work in binary, compressed, marked up, nonproprietary or proprietary form, including word processing or hypertext form. However, if you provide to or distribute copies of Project Gutenberg-tm work in format other than \"Plain Vanilla ASCII\" or other format used in the official version posted on the official Project Gutenberg-tm web site (www.gutenberg.org), you must, no cost, fee or expense to the user, provide copy, means of exporting copy, or means of obtaining copy upon request, of the work in its original \"Plain Vanilla ASCII\" or other form. Any format must include the full Project Gutenberg-tm License specified in paragraph 1.E.1. 1.E.7. Do not charge fee for to, viewing, displaying, performing, copying or distributing Project Gutenberg-tm works unless you comply with paragraph 1.E.8 or 1.E.9. 1.E.8. You may charge reasonable fee for copies of or providing to or distributing Project Gutenberg-tm electronic works provided that * You pay royalty fee of 20% of the gross profits you derive from the use of Project Gutenberg-tm works calculated using the method you use to calculate your taxes. The fee is owed to the owner of the Project Gutenberg-tm trademark, but he has to donate royalties under this paragraph to the Project Gutenberg Literary Archive Foundation. Royalty payments must be paid within 60 days following each date on which you prepare (or legally required to prepare) your periodic tax returns. Royalty payments should be clearly marked such sent to the Project Gutenberg Literary Archive Foundation the specified in Section 4, \"Information donations to the Project Gutenberg Literary Archive Foundation.\" * You provide full refund of money paid by user who notifies you in writing (or by e-mail) within 30 days of receipt that s/he does not to the terms of the full Project Gutenberg-tm License. You must require such user to return or destroy copies of the works possessed in physical medium discontinue use of to other copies of Project Gutenberg-tm works. * You provide, in with paragraph 1.F.3, full refund of money paid for work or replacement copy, if defect in the electronic work is discovered reported to you within 90 days of receipt of the work. * You comply with other terms of this for free distribution of Project Gutenberg-tm works. 1.E.9. If you wish to charge fee or distribute Project Gutenberg-tm electronic work or group of works on different terms than set forth in this you must obtain permission in writing from both the Project Gutenberg Literary Archive Foundation The Project Gutenberg Trademark LLC, the owner of the Project Gutenberg-tm trademark. Contact the Foundation set forth in Section 3 below. 1.F. 1.F.1. Project Gutenberg volunteers employees expend considerable effort to identify, do copyright research on, transcribe proofread works not protected by U.S. copyright law in creating the Project Gutenberg-tm collection. Despite these efforts, Project Gutenberg-tm electronic works, the medium on which they may be stored, may contain \"Defects,\" such but not limited to, incomplete, inaccurate or corrupt data, transcription errors, copyright or other intellectual property infringement, defective or damaged disk or other medium, computer virus, or computer codes that damage or cannot be read by your equipment. 1.F.2. LIMITED WARRANTY, DISCLAIMER OF DAMAGES - Except for the \"Right of Replacement or Refund\" described in paragraph 1.F.3, the Project Gutenberg Literary Archive Foundation, the owner of the Project Gutenberg-tm trademark, other party distributing Project Gutenberg-tm electronic work under this disclaim liability to you for damages, costs expenses, including legal fees. YOU AGREE THAT YOU HAVE NO REMEDIES FOR NEGLIGENCE, STRICT LIABILITY, BREACH OF WARRANTY OR BREACH OF CONTRACT EXCEPT THOSE PROVIDED IN PARAGRAPH 1.F.3. YOU AGREE THAT THE FOUNDATION, THE TRADEMARK OWNER, AND ANY DISTRIBUTOR UNDER THIS AGREEMENT WILL NOT BE LIABLE TO YOU FOR ACTUAL, DIRECT, INDIRECT, CONSEQUENTIAL, PUNITIVE OR INCIDENTAL DAMAGES EVEN IF YOU GIVE NOTICE OF THE POSSIBILITY OF SUCH DAMAGE. 1.F.3. LIMITED RIGHT OF REPLACEMENT OR REFUND - If you discover defect in this electronic work within 90 days of receiving it, you can receive refund of the money (if you paid for it by sending written explanation to the person you received the work from. If you received the work on physical medium, you must return the medium with your written explanation. The person or entity that provided you with the defective work may elect to provide replacement copy in lieu of refund. If you received the work electronically, the person or entity providing it to you may choose to give you second opportunity to receive the work electronically in lieu of refund. If the second copy is defective, you may demand refund in writing without further opportunities to fix the problem. 1.F.4. Except for the limited right of replacement or refund set forth in paragraph 1.F.3, this work is provided to you \\'AS-IS\\', WITH NO OTHER WARRANTIES OF ANY KIND, EXPRESS OR IMPLIED, INCLUDING BUT NOT LIMITED TO WARRANTIES OF MERCHANTABILITY OR FITNESS FOR ANY PURPOSE. 1.F.5. Some states do not disclaimers of certain implied warranties or the exclusion or limitation of certain types of damages. If disclaimer or limitation set forth in this violates the law of the state to this the shall be interpreted to make the maximum disclaimer or limitation permitted by the state law. The invalidity or unenforceability of provision of this shall not void the remaining provisions. 1.F.6. INDEMNITY - You to indemnify hold the Foundation, the trademark owner, or employee of the Foundation, providing copies of Project Gutenberg-tm electronic works in with this volunteers with the production, promotion distribution of Project Gutenberg-tm electronic works, harmless from liability, costs expenses, including legal fees, that directly or indirectly from of the following which you do or cause to occur: (a) distribution of this or Project Gutenberg-tm work, (b) modification, or or deletions to Project Gutenberg-tm work, (c) Defect you cause. Section 2. Information the Mission of Project Gutenberg-tm Project Gutenberg-tm is synonymous with the free distribution of electronic works in formats readable by the widest variety of computers including obsolete, old, middle-aged new computers. It exists because of the efforts of hundreds of volunteers donations from people in walks of life. Volunteers financial support to provide volunteers with the they need critical to reaching Project Gutenberg-tm\\'s goals ensuring that the Project Gutenberg-tm collection will remain freely for generations to come. In 2001, the Project Gutenberg Literary Archive Foundation was created to provide secure permanent future for Project Gutenberg-tm future generations. To learn more the Project Gutenberg Literary Archive Foundation how your efforts donations can help, see Sections 3 4 the Foundation information page www.gutenberg.org Section 3. Information the Project Gutenberg Literary Archive Foundation The Project Gutenberg Literary Archive Foundation is non profit 501(c)(3) educational corporation organized under the laws of the state of Mississippi granted tax exempt status by the Internal Revenue Service. The Foundation\\'s EIN or federal tax identification number is 64-6221541. Contributions to the Project Gutenberg Literary Archive Foundation tax deductible to the full extent permitted by U.S. federal laws your state\\'s laws. The Foundation\\'s principal office is in Fairbanks, Alaska, with the mailing PO Box 750175, Fairbanks, AK 99775, but its volunteers employees scattered throughout numerous locations. Its business office is located 809 North 1500 West, Salt Lake City, UT 84116, (801) 596-1887. Email contact links up to date contact information can be found the Foundation\\'s web site official page www.gutenberg.org/contact For contact information: Dr. Gregory B. Newby Chief Executive Director gbnewby@pglaf.org Section 4. Information Donations to the Project Gutenberg Literary Archive Foundation Project Gutenberg-tm depends upon cannot survive without wide spread public support donations to carry out its mission of increasing the number of public domain licensed works that can be freely distributed in machine readable form by the widest of equipment including outdated equipment. Many small donations ($1 to $5,000) particularly important to maintaining tax exempt status with the IRS. The Foundation is committed to complying with the laws regulating charities charitable donations in 50 states of the United States. Compliance requirements not uniform it takes considerable effort, much paperwork many fees to meet keep up with these requirements. We do not solicit donations in locations where we have not received written confirmation of compliance. To SEND DONATIONS or determine the status of compliance for particular state visit www.gutenberg.org/donate While we cannot do not solicit contributions from states where we have not met the solicitation requirements, we know of no prohibition unsolicited donations from donors in such states who us with offers to donate. International donations gratefully but we cannot make statements concerning tax treatment of donations received from outside the United States. U.S. laws swamp our small staff. Please check the Project Gutenberg Web pages for current donation methods Donations in number of other ways including checks, online payments credit card donations. To donate, please visit: www.gutenberg.org/donate Section 5. General Information About Project Gutenberg-tm electronic works. Professor Michael S. Hart was the originator of the Project Gutenberg-tm concept of library of electronic works that could be freely shared with For forty years, he produced distributed Project Gutenberg-tm eBooks with only loose network of volunteer support. Project Gutenberg-tm eBooks often created from several printed editions, of which confirmed not protected by copyright in the U.S. unless copyright notice is included. Thus, we do not necessarily keep eBooks in compliance with particular paper edition. Most people start our Web site which has the main PG search facility: www.gutenberg.org This Web site includes information Project Gutenberg-tm, including how to make donations to the Project Gutenberg Literary Archive Foundation, how to help produce our new eBooks, how to subscribe to our email newsletter to hear new eBooks.'"
      ]
     },
     "execution_count": 97,
     "metadata": {},
     "output_type": "execute_result"
    }
   ],
   "source": [
    "# your code here\n",
    "\n",
    "reduce(concat_space,prophet_filter)"
   ]
  },
  {
   "cell_type": "markdown",
   "metadata": {},
   "source": [
    "# Challenge 4 - Applying Functions to DataFrames\n",
    "\n",
    "#### Our next step is to use the apply function to a dataframe and transform all cells.\n",
    "\n",
    "To do this, we will connect to Ironhack's database and retrieve the data from the *pollution* database. Select the *beijing_pollution* table and retrieve its data."
   ]
  },
  {
   "cell_type": "code",
   "execution_count": null,
   "metadata": {},
   "outputs": [],
   "source": [
    "# your code here"
   ]
  },
  {
   "cell_type": "markdown",
   "metadata": {},
   "source": [
    "Let's look at the data using the `head()` function."
   ]
  },
  {
   "cell_type": "code",
   "execution_count": null,
   "metadata": {},
   "outputs": [],
   "source": [
    "# your code here"
   ]
  },
  {
   "cell_type": "markdown",
   "metadata": {},
   "source": [
    "The next step is to create a function that divides a cell by 24 to produce an hourly figure. Write the function below."
   ]
  },
  {
   "cell_type": "code",
   "execution_count": null,
   "metadata": {},
   "outputs": [],
   "source": [
    "def hourly(x):\n",
    "    '''\n",
    "    Input: A numerical value\n",
    "    Output: The value divided by 24\n",
    "        \n",
    "    Example:\n",
    "    Input: 48\n",
    "    Output: 2.0\n",
    "    '''\n",
    "    \n",
    "    # your code here"
   ]
  },
  {
   "cell_type": "markdown",
   "metadata": {},
   "source": [
    "Apply this function to the columns `Iws`, `Is`, and `Ir`. Store this new dataframe in the variable `pm25_hourly`."
   ]
  },
  {
   "cell_type": "code",
   "execution_count": null,
   "metadata": {},
   "outputs": [],
   "source": [
    "# your code here"
   ]
  },
  {
   "cell_type": "markdown",
   "metadata": {},
   "source": [
    "#### Our last challenge will be to create an aggregate function and apply it to a select group of columns in our dataframe.\n",
    "\n",
    "Write a function that returns the standard deviation of a column divided by the length of a column minus 1. Since we are using pandas, do not use the `len()` function. One alternative is to use `count()`. Also, use the numpy version of standard deviation."
   ]
  },
  {
   "cell_type": "code",
   "execution_count": null,
   "metadata": {},
   "outputs": [],
   "source": [
    "def sample_sd(x):\n",
    "    '''\n",
    "    Input: A Pandas series of values\n",
    "    Output: the standard deviation divided by the number of elements in the series\n",
    "        \n",
    "    Example:\n",
    "    Input: pd.Series([1,2,3,4])\n",
    "    Output: 0.3726779962\n",
    "    '''\n",
    "    \n",
    "    # your code here"
   ]
  }
 ],
 "metadata": {
  "kernelspec": {
   "display_name": "Python 3",
   "language": "python",
   "name": "python3"
  },
  "language_info": {
   "codemirror_mode": {
    "name": "ipython",
    "version": 3
   },
   "file_extension": ".py",
   "mimetype": "text/x-python",
   "name": "python",
   "nbconvert_exporter": "python",
   "pygments_lexer": "ipython3",
   "version": "3.7.6"
  }
 },
 "nbformat": 4,
 "nbformat_minor": 2
}
